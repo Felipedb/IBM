{
  "metadata": {
    "kernelspec": {
      "name": "python",
      "display_name": "Python (Pyodide)",
      "language": "python"
    },
    "language_info": {
      "codemirror_mode": {
        "name": "python",
        "version": 3
      },
      "file_extension": ".py",
      "mimetype": "text/x-python",
      "name": "python",
      "nbconvert_exporter": "python",
      "pygments_lexer": "ipython3",
      "version": "3.8"
    }
  },
  "nbformat_minor": 5,
  "nbformat": 4,
  "cells": [
    {
      "id": "c0cebfc4-1660-49f2-a906-07e0cb9c252f",
      "cell_type": "markdown",
      "source": "# Data Science Tools and Ecosystem",
      "metadata": {}
    },
    {
      "id": "df7a5f0a-24b7-469a-ae9e-d9c1ce8a6089",
      "cell_type": "markdown",
      "source": "In this notebook, Data Science Tools and Ecosystem are summarized.\n\n",
      "metadata": {}
    },
    {
      "id": "fe086110-7882-4ea2-a6b3-3e6cbef15174",
      "cell_type": "markdown",
      "source": "**Objectives:**\n\n- List popular languages for Data Science  \n- Identify commonly used libraries in Data Science  \n- Create tables and markdown cells in a Jupyter Notebook  \n- Convert units of time using code\n",
      "metadata": {}
    },
    {
      "id": "a43523d3-03d1-4de1-9547-53e13557e153",
      "cell_type": "markdown",
      "source": "Some of the commonly used libraries used by Data Scientists include:\n\n1. Python  \n2. R  \n3. SQL  \n4. Julia  ",
      "metadata": {}
    },
    {
      "id": "d6bd7928-2719-411a-8601-722ec3acc1f8",
      "cell_type": "markdown",
      "source": "Some of the commonly used libraries used by Data Scientists include:\n\n1. Pandas  \n2. NumPy  \n3. Matplotlib  \n\n",
      "metadata": {}
    },
    {
      "id": "73ff3dfc-2230-481c-99a6-39d4139f8f14",
      "cell_type": "markdown",
      "source": "| Data Science Tools        |\n|---------------------------|\n| Jupyter Notebook          |\n| RStudio                   |\n| Apache Zeppelin           |\n",
      "metadata": {}
    },
    {
      "id": "79778488-4e04-4b5d-997c-41aae2eda8d3",
      "cell_type": "markdown",
      "source": "### Below are a few examples of evaluating arithmetic expressions in Python.\n",
      "metadata": {}
    },
    {
      "id": "dc793268-e199-4ecb-8260-c4caae83295f",
      "cell_type": "code",
      "source": "# This a simple arithmetic expression to multiply then add integers\n(3*4)+5",
      "metadata": {
        "trusted": true
      },
      "outputs": [
        {
          "execution_count": 2,
          "output_type": "execute_result",
          "data": {
            "text/plain": "17"
          },
          "metadata": {}
        }
      ],
      "execution_count": 2
    },
    {
      "id": "54a8e5a1-1808-4ab1-a4a1-72f8b207475d",
      "cell_type": "code",
      "source": "# This will convert 200 minutes to hours by diving by 60\n200 / 60\n",
      "metadata": {
        "trusted": true
      },
      "outputs": [
        {
          "execution_count": 3,
          "output_type": "execute_result",
          "data": {
            "text/plain": "3.3333333333333335"
          },
          "metadata": {}
        }
      ],
      "execution_count": 3
    },
    {
      "id": "4c068c43-3709-417c-883f-1fd6f1537988",
      "cell_type": "markdown",
      "source": "## Author\n\nFelipe Batista\n",
      "metadata": {}
    },
    {
      "id": "18db55bd-30bc-4e91-bd33-7fa4f34bd8e8",
      "cell_type": "code",
      "source": "",
      "metadata": {
        "trusted": true
      },
      "outputs": [],
      "execution_count": null
    }
  ]
}